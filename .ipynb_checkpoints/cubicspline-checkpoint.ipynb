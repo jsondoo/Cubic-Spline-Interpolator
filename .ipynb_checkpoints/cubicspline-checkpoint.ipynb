{
 "cells": [
  {
   "cell_type": "markdown",
   "metadata": {},
   "source": [
    "# Cubic Spline Interpolator\n",
    "\n",
    "Written by Jason JeongSoo Doo - February 19th, 2017\n",
    "\n",
    "The purpose of this project was to make a cubic spline interpolator using a set of data points provided by the user. I used Python 3, numpy, and my knowledge from a linear algebra courses to write some code that sets up a system of equations, solves it, and plots it. \n",
    "\n",
    "Feel free to try it out by changing the input cell below. \n",
    "\n",
    "P.S This was my first time trying Python 3, Jupyter Notebook, and LaTeX (although it's not my first time programming) so any feedback is appreciated.\n",
    "\n",
    "## Background\n",
    "\n",
    "A well known method of interpolation is Lagrange interpolation. You fit an order n-1 polynomial through n points. A problem with this is that as n becomes large, there are huge oscillations in the interpolation which is undesirable. To overcome this, we can use a cubic spline. A cubic spline is curve through a set of given data points. Between each data point is a piecewise cubic function - so you restrict the polynomial to order 3 and reduce the interpolation error. \n",
    "\n",
    "Given n points, we have n-1 intervals, so we need n-1 cubic functions. Each cubic function has four unknowns (a,b,c,d) since:\n",
    "$$F_i(x) = a_{i} ( x - x_{i} ) ^3 + b_{i} ( x - x_{i} ) ^{2} +  c_{i} ( x -x _{i}) + d_{i}$$\n",
    "\n",
    "So in total we have 4(n-1) unknowns. We can set up a matrix to solve for these unknowns and make a plot using matlabplot. There are five conditions the piecewise polynomials have to satisfy.\n",
    "\n",
    "(1) $F_i(x_i) = y_i$ where i = 1, 2, ..., n-1\n",
    "\n",
    "(2) $F_i(x_{i+1}) = y_{i+1}$ where i = 1, 2, ..., n-1\n",
    "\n",
    "(3) $F_i^{\\prime}(x_{i+1}) = F_{i+1}^{\\prime}(x_{i+1})$ where i = 1, ..., n-2, since the first derivative must be continuous.\n",
    "\n",
    "(4) $F_i^{\\prime\\prime}(x_{i+1}) = F_{i+1}^{\\prime\\prime}(x_{i+1})$ where i = 1, ..., n-2, since the second derivative must be also continuous.\n",
    "\n",
    "(5) Natural conditions: $F^{\\prime\\prime}(x_{1}) = F^{\\prime\\prime}(x_{n}) = 0$\n",
    "\n",
    "These conditions provide us with the equations to solve for the unknowns.\n",
    "\n",
    "(i) Plug in $(x_i, y_i)$ into $F(x)$. We get the trivial answers: $d_i = y_i$. We can eliminate these from our unknowns. So $4(n-1) - (n-1) = 3n-3$ unknowns to solve for (i.e. $a_i, b_i, c_i$)\n",
    "\n",
    "(ii) $F_i(x_{i+1}) = a_{i} (x_{i+1} - x_{i} ) ^3 + b_{i} (x_{i+1} - x_{i} ) ^{2} +  c_{i} ( x_{i+1} -x _{i}) + d_{i}$ must also be true. So:\n",
    "$$\\tag{1} y_{i+1} = a_{i} (x_{i+1} - x_{i} ) ^3 + b_{i} (x_{i+1} - x_{i} ) ^{2} +  c_{i} ( x_{i+1} -x _{i}) + d_{i} $$\n",
    "\n",
    "Substitute $d_{i} = y_{i}$ from (i):\n",
    "$$ y_{i+1} - y_{i} = a_{i} (x_{i+1} - x_{i} ) ^3 + b_{i} (x_{i+1} - x_{i} ) ^{2} +  c_{i} ( x_{i+1} -x _{i}) $$\n",
    "\n",
    "(iii) $$F_i^{\\prime}(x_{i+1}) = F_{i+1}^{\\prime}(x_{i+1})$$<br> \n",
    "$$\\tag{2}  3a_{i}(x_{i+1}-x_{i})^2 + 2b_i(x_{i+1}-x_{i})+c_i = c_{i+1} $$\n",
    "\n",
    "(iv) $$F_i^{\\prime\\prime}(x_{i+1}) = F_{i+1}^{\\prime\\prime}(x_{i+1})$$ <br>\n",
    "$$\\tag{3}  6a_{i}(x_{i+1}-x_{i}) + 2b_i = 2b_{i+1} $$\n",
    "\n",
    "(v) Using the natural conditions at the end points:\n",
    "$$\\tag{4}  2b_{1} = 0, 6a_{n-1}(x_{n}-x_{n-1}) + 2b_{n-1}=0 $$\n",
    "\n",
    "The above 4 equations form a basis for the matrix for solving $a_i, b_i, c_i$.\n"
   ]
  },
  {
   "cell_type": "markdown",
   "metadata": {},
   "source": [
    "# Try it\n",
    "\n",
    "To use my cubic spline interpolator, enter the set of data points in the cell below (edit the x and y array). \n",
    "\n",
    "For example, if you have the set of points (0,1), (2,5), (3,-2), you would enter:\n",
    "```python\n",
    "x = [0,2,3]\n",
    "y = [1,5,-2]\n",
    "```\n",
    "\n",
    "Make sure that x and y are the same dimensions, and that x-coordinates are given in increasing order (unless you want to see some interesting shapes). \n",
    "Also, ensure that you have at least two points - it doesn't make sense to try to interpolate 0 or 1 point...\n",
    "\n",
    "Finally, click on Cell -> Run All, and scroll all the way down to see the plots of the interpolation."
   ]
  },
  {
   "cell_type": "markdown",
   "metadata": {},
   "source": [
    "# Input"
   ]
  },
  {
   "cell_type": "code",
   "execution_count": 1,
   "metadata": {
    "collapsed": true
   },
   "outputs": [],
   "source": [
    "# ENTER INPUT HERE\n",
    "x = [1,2,4]    \n",
    "y = [0,7,4]"
   ]
  },
  {
   "cell_type": "markdown",
   "metadata": {},
   "source": [
    "## Matrix Setup\n",
    "\n",
    "Below is the code that sets up matrix A and column vector b, where Ax=b, and x is the solution or the coefficients of the piecewise cubic polynomials. It goes through the conditions/equations above, and creates the matrix needed to solve for the unknowns. Note that the matrix A is non-singular and is sparse - this means that Ax=b can be solved efficiently. The matrix is also well-conditioned (low condition number) unlike a Vandermonde matrix where the condition number can be very large."
   ]
  },
  {
   "cell_type": "code",
   "execution_count": 2,
   "metadata": {
    "collapsed": false,
    "scrolled": true
   },
   "outputs": [],
   "source": [
    "import numpy as np\n",
    "import math \n",
    "\n",
    "n = 3*(len(x)-1) # number of unknowns (a_i, b_i, c_i)\n",
    "# Ax = b, initialize matrices to zeros for now\n",
    "A = np.zeros((n,n))\n",
    "b = np.zeros(n)\n",
    "\n",
    "# condition 1\n",
    "d_i = y\n",
    "\n",
    "# condition 2\n",
    "for i in range(len(x)-1):\n",
    "    dx = x[i+1]-x[i]\n",
    "    dy = y[i+1]-y[i]\n",
    "    b[i*3] = dy\n",
    "    # dy = a_i(dx)^3 + b_i(dx)^2 +  c_i(dx)\n",
    "    a_i = math.pow(dx,3)\n",
    "    b_i = math.pow(dx,2)\n",
    "    c_i = math.pow(dx,1)\n",
    "    A[[i*3],[i*3,i*3+1,i*3+2]]=[a_i,b_i,c_i]\n",
    "\n",
    "# condition 3\n",
    "# 3a_i(dx)^2 + 2b_i(dx) + c_i - c_i+1 = 0\n",
    "for i in range(len(x)-2):\n",
    "    dx = x[i+1]-x[i]\n",
    "    row = [i*3 + 1]\n",
    "    cols = [i*3,i*3+1,i*3+2,i*3+3,i*3+4,i*3+5]\n",
    "    A[row,cols] = [3*math.pow(dx,2), 2*dx,1,0,0,-1]\n",
    "    \n",
    "# condition 4\n",
    "# 6a_i(dx) + 2b_i - 2_b_i+1 = 0\n",
    "for i in range(len(x)-2):\n",
    "    dx = x[i+1]-x[i]\n",
    "    row = [i*3 + 2]\n",
    "    cols = [i*3, i*3+1,i*3+2,i*3+3,i*3+4]\n",
    "    A[row,cols] = [6*dx,2,0,0,-2]\n",
    "    \n",
    "# condition 5\n",
    "# 2b_1 = 0, 6a_n-1*(dx) + 2b_n-1 = 0\n",
    "A[[3*(len(x)-2)+1],[1]] = 2\n",
    "A[[3*(len(x)-2)+2],[3*(len(x)-2)]] = 6*(x[-1]-x[-2])\n",
    "A[[3*(len(x)-2)+2],[3*(len(x)-2)+1]] = 2"
   ]
  },
  {
   "cell_type": "markdown",
   "metadata": {},
   "source": [
    "# Plotting\n",
    "\n",
    "Now that the hard part is done, we just have to plot the piecewise cubic functions after solving the system of equations Ax=b. \n",
    "\n",
    "The code below extracts the values of $a_i, b_i, c_i, d_i$ using a for-loop, and uses matplotlib.pyplot to create a plot. The variables width/height can be changed to make the plot bigger. "
   ]
  },
  {
   "cell_type": "code",
   "execution_count": 3,
   "metadata": {
    "collapsed": false
   },
   "outputs": [],
   "source": [
    "import matplotlib.pyplot as plt\n",
    "from numpy import linalg as LA \n",
    "\n",
    "p = LA.solve(A,b)\n",
    "\n",
    "width = 10\n",
    "height = 10\n",
    "N = 1000 # number of points in an interval, higher N means better smoothness\n",
    "\n",
    "plt.figure(figsize=(width, height))\n",
    "plt.plot(x,y,'ko') # plot data points\n",
    "for i in range(len(x)-1):\n",
    "    a_i = p[i*3]\n",
    "    b_i = p[i*3+1]\n",
    "    c_i = p[i*3+2]\n",
    "    d_i = y[i]\n",
    "    smooth_x = np.linspace(x[i],x[i+1],N) # x-values\n",
    "    smooth_y = a_i*(smooth_x-x[i])**3 + b_i*(smooth_x-x[i])**2 + c_i*(smooth_x-x[i])+ d_i # y-values\n",
    "    plt.plot(smooth_x,smooth_y)"
   ]
  },
  {
   "cell_type": "markdown",
   "metadata": {},
   "source": [
    "# Output"
   ]
  },
  {
   "cell_type": "code",
   "execution_count": 4,
   "metadata": {
    "collapsed": false
   },
   "outputs": [
    {
     "data": {
      "image/png": "[encoded data removed]",
      "text/plain": [
       "<matplotlib.figure.Figure at 0x10c786128>"
      ]
     },
     "metadata": {},
     "output_type": "display_data"
    }
   ],
   "source": [
    "plt.show()"
   ]
  }
 ],
 "metadata": {
  "kernelspec": {
   "display_name": "Python 3",
   "language": "python",
   "name": "python3"
  },
  "language_info": {
   "codemirror_mode": {
    "name": "ipython",
    "version": 3
   },
   "file_extension": ".py",
   "mimetype": "text/x-python",
   "name": "python",
   "nbconvert_exporter": "python",
   "pygments_lexer": "ipython3",
   "version": "3.6.0"
  }
 },
 "nbformat": 4,
 "nbformat_minor": 2
}
